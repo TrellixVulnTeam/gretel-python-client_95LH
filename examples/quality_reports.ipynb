{
    "cells": [
        {
            "cell_type": "code",
            "execution_count": null,
            "metadata": {},
            "outputs": [],
            "source": [
                "# !pip install git+https://github.com/gretelai/gretel-python-client@main"
            ]
        },
        {
            "cell_type": "code",
            "execution_count": null,
            "metadata": {},
            "outputs": [],
            "source": [
                "from getpass import getpass\n",
                "\n",
                "from gretel_client import projects\n",
                "from gretel_client.config import RunnerMode\n",
                "from gretel_client.evaluation.quality_report import QualityReport\n",
                "from gretel_client import configure_session, ClientConfig\n",
                "from gretel_client.projects import create_or_get_unique_project\n",
                "\n",
                "# Specify your Gretel API key\n",
                "\n",
                "configure_session(ClientConfig(api_key=getpass(prompt=\"Enter Gretel API key\"), \n",
                "                               endpoint=\"https://api.gretel.cloud\"))\n",
                "\n",
                "# Specify the project name\n",
                "\n",
                "PROJECT_NAME = 'Gretel-Evaluate'\n",
                "PROJECT = create_or_get_unique_project(name=PROJECT_NAME)\n",
                "\n",
                "data_source = \"https://gretel-public-website.s3.us-west-2.amazonaws.com/datasets/USAdultIncome5k.csv\"\n",
                "ref_data = \"https://gretel-public-website.s3.us-west-2.amazonaws.com/datasets/USAdultIncome5k.csv\""
            ]
        },
        {
            "cell_type": "code",
            "execution_count": null,
            "metadata": {},
            "outputs": [],
            "source": [
                "# Create Quality Report in CLOUD, using a temporary project\n",
                "cloud_report = QualityReport(data_source=data_source, ref_data=ref_data)\n",
                "cloud_report.run()\n",
                "cloud_report.peek()"
            ]
        },
        {
            "cell_type": "code",
            "execution_count": null,
            "metadata": {},
            "outputs": [],
            "source": [
                "cloud_report.as_dict"
            ]
        },
        {
            "cell_type": "code",
            "execution_count": null,
            "metadata": {},
            "outputs": [],
            "source": [
                "cloud_report.as_html"
            ]
        },
        {
            "cell_type": "code",
            "execution_count": null,
            "metadata": {},
            "outputs": [],
            "source": [
                "# Create Quality Report LOCALLY, creating a project\n",
                "local_report = QualityReport(project=projects.create_or_get_unique_project(name=\"project-for-reports\"), data_source=data_source, ref_data=ref_data, runner_mode=RunnerMode.LOCAL, output_dir='report_results')\n",
                "local_report.run()\n",
                "local_report.peek()"
            ]
        },
        {
            "cell_type": "code",
            "execution_count": null,
            "metadata": {},
            "outputs": [],
            "source": [
                "local_report.as_dict"
            ]
        },
        {
            "cell_type": "code",
            "execution_count": null,
            "metadata": {},
            "outputs": [],
            "source": [
                "local_report.as_html"
            ]
        }
    ],
    "metadata": {
        "kernelspec": {
            "display_name": "Python 3.9.10 ('venv': venv)",
            "language": "python",
            "name": "python3"
        },
        "language_info": {
            "codemirror_mode": {
                "name": "ipython",
                "version": 3
            },
            "file_extension": ".py",
            "mimetype": "text/x-python",
            "name": "python",
            "nbconvert_exporter": "python",
            "pygments_lexer": "ipython3",
            "version": "3.9.10"
        },
        "orig_nbformat": 4,
        "vscode": {
            "interpreter": {
                "hash": "7e562ec37f22a74d6dfb64fca5c1c01987c6faef2d02556e3f390e67816dcfb0"
            }
        }
    },
    "nbformat": 4,
    "nbformat_minor": 2
}
